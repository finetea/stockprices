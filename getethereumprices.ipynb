{
 "cells": [
  {
   "cell_type": "code",
   "execution_count": 3,
   "metadata": {
    "collapsed": false
   },
   "outputs": [],
   "source": [
    "import pandas.io.data as web\n",
    "import pandas\n",
    "from datetime import datetime\n",
    "import random\n",
    "import math\n",
    "import urllib\n",
    "from lxml import html\n",
    "import csv\n",
    "import json"
   ]
  },
  {
   "cell_type": "code",
   "execution_count": 4,
   "metadata": {
    "collapsed": false
   },
   "outputs": [],
   "source": [
    "url = \"https://poloniex.com/public?command=returnChartData&currencyPair=BTC_ETH&start=1405699200&end=9999999999&period=86400\"\n",
    "eth_prices = urllib.urlopen(url).read()\n",
    "\n",
    "outfilename = 'eth_prices.json'\n",
    "outfile = open(outfilename,'w')\n",
    "outfile.write(eth_prices)\n",
    "outfile.close()\n",
    "\n",
    "df = pandas.read_json(eth_prices)\n",
    "\n",
    "outfilename = 'eth_prices.csv'\n",
    "outfile = open(outfilename,'w')\n",
    "outfile.write(df.to_csv(index =False, header=False, columns=['date','open','volume']))\n",
    "outfile.close()"
   ]
  },
  {
   "cell_type": "code",
   "execution_count": 8,
   "metadata": {
    "collapsed": false
   },
   "outputs": [],
   "source": [
    "#reformatting org file\n",
    "dates = []\n",
    "prices = []\n",
    "volumes = []\n",
    "with open(outfilename, 'rb') as f:\n",
    "    reader = csv.reader(f)\n",
    "    for row in reader:\n",
    "        if float(row[1]) > 0:\n",
    "            #date_object = datetime.strptime(row['date'], '%d/%m/%Y %H:%M:%S')\n",
    "            #dates.append(date_object.strftime(\"%Y-%m-%d\"))\n",
    "            dates.append(row[0])\n",
    "            prices.append(float(row[1]))\n",
    "            volumes.append(float(row[2]))\n"
   ]
  },
  {
   "cell_type": "code",
   "execution_count": 9,
   "metadata": {
    "collapsed": false
   },
   "outputs": [],
   "source": [
    "import random\n",
    "\n",
    "def selectSampleIndex(listSize, sampleSize, maxSeqLen):\n",
    "    if listSize <= 0 or sampleSize <= 0 or listSize < sampleSize or maxSeqLen >= listSize:\n",
    "        return []\n",
    "    \n",
    "    resSample = set()\n",
    "    while len(resSample) < sampleSize:\n",
    "        pick = random.randint(0, listSize-maxSeqLen-1)\n",
    "        resSample.add(pick)\n",
    "    res = list(resSample)\n",
    "    res.sort()\n",
    "    return res\n",
    "\n",
    "def selectPredictionIndex(listSize, marginDays):\n",
    "    if listSize <= 0 or marginDays >= listSize:\n",
    "        return []\n",
    "    \n",
    "    resPred = range(listSize-marginDays, listSize)\n",
    "    return resPred\n",
    "    \n",
    "def getDiffValue(lastDayValue, targetDayValue):\n",
    "    return float(targetDayValue - lastDayValue)\n",
    "\n",
    "def getDiff(lastDayValue, targetDayValue):\n",
    "    return getDiffValue(lastDayValue, targetDayValue)/float(targetDayValue)\n"
   ]
  },
  {
   "cell_type": "code",
   "execution_count": 10,
   "metadata": {
    "collapsed": false
   },
   "outputs": [],
   "source": [
    "maxSeqLen = 20\n",
    "marginDays = 5\n",
    "minGain = 0.05\n",
    "numSamples = 200"
   ]
  },
  {
   "cell_type": "code",
   "execution_count": 11,
   "metadata": {
    "collapsed": false
   },
   "outputs": [
    {
     "data": {
      "text/plain": [
       "([0, 1, 4, 5, 6, 7, 8, 9, 10, 11],\n",
       " [255, 256, 257, 258, 259, 260, 261, 262, 264, 265])"
      ]
     },
     "execution_count": 11,
     "metadata": {},
     "output_type": "execute_result"
    }
   ],
   "source": [
    "resIdx = selectSampleIndex(len(prices)-5, numSamples, maxSeqLen)\n",
    "resIdx[0:10], resIdx[-10:] #see first and last 10 index"
   ]
  },
  {
   "cell_type": "code",
   "execution_count": 12,
   "metadata": {
    "collapsed": false
   },
   "outputs": [
    {
     "data": {
      "text/plain": [
       "292"
      ]
     },
     "execution_count": 12,
     "metadata": {},
     "output_type": "execute_result"
    }
   ],
   "source": [
    "len(dates)"
   ]
  },
  {
   "cell_type": "code",
   "execution_count": 13,
   "metadata": {
    "collapsed": false
   },
   "outputs": [],
   "source": [
    "#build train file\n",
    "\n",
    "outfilename = 'eth_train_data.csv'\n",
    "outfile = open(outfilename,'w')\n",
    "\n",
    "#print header\n",
    "header = 'date,' + 'day'+',day'.join([`num+1` for num in xrange(maxSeqLen-marginDays)])+',vol'+',vol'.join([`num+1` for num in xrange(maxSeqLen-marginDays)])+',dayTarget'+',diffVal'+',diff'+',isBullish'+'\\n'\n",
    "outfile.write(header)\n",
    "\n",
    "for idx in resIdx:\n",
    "    isBullish = 0    \n",
    "    diff = getDiff(prices[idx+(maxSeqLen-marginDays)-1], prices[idx+maxSeqLen])\n",
    "    if diff > minGain:\n",
    "        isBullish = 1\n",
    "    elif diff < (-1*minGain):\n",
    "        isBullish = -1\n",
    "    else:\n",
    "        isBullish = 0\n",
    "    #print idx, tsla_prices[idx:idx+10], tsla_prices[idx+15], good, diff\n",
    "    #print tsla_prices[idx:idx+maxSeqLen-5], tsla_prices[idx+maxSeqLen], isBullish\n",
    "    result = prices[idx:idx+maxSeqLen-marginDays]  #prices of sequence of days\n",
    "    result.insert(0, dates[idx+(maxSeqLen-marginDays)-1]) #date of last day\n",
    "    result = result + volumes[idx:idx+maxSeqLen-marginDays] #volumes of sequence of days\n",
    "    result.append(prices[idx+maxSeqLen]) #price of the day target\n",
    "    result.append(getDiffValue(prices[idx+(maxSeqLen-marginDays)-1], prices[idx+maxSeqLen])) #diff value\n",
    "    result.append(diff) #diff \n",
    "    result.append(isBullish) #isbullish\n",
    "    trainset = \",\".join([`x` for x in result])\n",
    "    outfile.write(trainset)\n",
    "    outfile.write('\\n')\n",
    "\n",
    "outfile.close()\n"
   ]
  },
  {
   "cell_type": "code",
   "execution_count": 11,
   "metadata": {
    "collapsed": false
   },
   "outputs": [],
   "source": [
    "#build prediction file\n",
    "\n",
    "outfilename = 'eth_pred_data.csv'\n",
    "outfile = open(outfilename,'w')\n",
    "\n",
    "#print header\n",
    "header = 'date,' + 'day'+',day'.join([`num+1` for num in xrange(maxSeqLen-marginDays)])+',vol'+',vol'.join([`num+1` for num in xrange(maxSeqLen-marginDays)])+'\\n'\n",
    "outfile.write(header)\n",
    "\n",
    "idxPred = selectPredictionIndex(len(prices), marginDays)\n",
    "\n",
    "maxSeqLen-marginDays\n",
    "for idx in idxPred:\n",
    "    result = prices[idx-(maxSeqLen-marginDays)+1:idx+1]  #prices of sequence of days\n",
    "    result.insert(0, dates[idx]) #date of last day\n",
    "    result = result + volumes[idx-(maxSeqLen-marginDays)+1:idx+1] #volumes of sequence of days\n",
    "    predset = \",\".join([`x` for x in result])\n",
    "    outfile.write(predset)\n",
    "    outfile.write('\\n')\n",
    "\n",
    "outfile.close()"
   ]
  },
  {
   "cell_type": "code",
   "execution_count": 15,
   "metadata": {
    "collapsed": false
   },
   "outputs": [
    {
     "data": {
      "text/plain": [
       "[284, 285, 286, 287, 288]"
      ]
     },
     "execution_count": 15,
     "metadata": {},
     "output_type": "execute_result"
    }
   ],
   "source": [
    "idxPred"
   ]
  },
  {
   "cell_type": "code",
   "execution_count": 16,
   "metadata": {
    "collapsed": false,
    "scrolled": true
   },
   "outputs": [
    {
     "data": {
      "text/plain": [
       "0.03168962"
      ]
     },
     "execution_count": 16,
     "metadata": {},
     "output_type": "execute_result"
    }
   ],
   "source": [
    "prices[idxPred[4]]"
   ]
  },
  {
   "cell_type": "code",
   "execution_count": 17,
   "metadata": {
    "collapsed": false
   },
   "outputs": [
    {
     "data": {
      "text/plain": [
       "'2016-05-22'"
      ]
     },
     "execution_count": 17,
     "metadata": {},
     "output_type": "execute_result"
    }
   ],
   "source": [
    "dates[idxPred[4]]"
   ]
  },
  {
   "cell_type": "code",
   "execution_count": null,
   "metadata": {
    "collapsed": false
   },
   "outputs": [],
   "source": []
  },
  {
   "cell_type": "code",
   "execution_count": null,
   "metadata": {
    "collapsed": false
   },
   "outputs": [],
   "source": []
  },
  {
   "cell_type": "code",
   "execution_count": null,
   "metadata": {
    "collapsed": false
   },
   "outputs": [],
   "source": []
  },
  {
   "cell_type": "code",
   "execution_count": null,
   "metadata": {
    "collapsed": false
   },
   "outputs": [],
   "source": []
  },
  {
   "cell_type": "code",
   "execution_count": null,
   "metadata": {
    "collapsed": true
   },
   "outputs": [],
   "source": []
  }
 ],
 "metadata": {
  "kernelspec": {
   "display_name": "Python 2",
   "language": "python",
   "name": "python2"
  },
  "language_info": {
   "codemirror_mode": {
    "name": "ipython",
    "version": 2
   },
   "file_extension": ".py",
   "mimetype": "text/x-python",
   "name": "python",
   "nbconvert_exporter": "python",
   "pygments_lexer": "ipython2",
   "version": "2.7.10"
  }
 },
 "nbformat": 4,
 "nbformat_minor": 0
}
